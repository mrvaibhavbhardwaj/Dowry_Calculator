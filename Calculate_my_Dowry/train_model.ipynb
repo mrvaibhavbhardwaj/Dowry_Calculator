{
 "cells": [
  {
   "cell_type": "code",
   "execution_count": 2,
   "id": "80e50bf0-97ef-41d3-8287-2f1f5340df36",
   "metadata": {},
   "outputs": [
    {
     "name": "stdout",
     "output_type": "stream",
     "text": [
      "Synthetic dataset with 10,000 rows saved as 'synthetic_dowry_dataset_10000.csv'\n"
     ]
    }
   ],
   "source": [
    "import pandas as pd\n",
    "import numpy as np\n",
    "\n",
    "# Set random seed for reproducibility\n",
    "np.random.seed(42)\n",
    "\n",
    "# Base attributes for synthetic data\n",
    "genders = ['Male', 'Female']\n",
    "education_levels = ['School', 'Graduate', 'Postgraduate']\n",
    "income_levels = ['Low', 'Middle', 'High']\n",
    "urban_rural = ['Urban', 'Rural']\n",
    "professions = ['Software Engineer', 'Doctor', 'Government Officer', 'Teacher', 'Business Owner', 'Farmer']\n",
    "\n",
    "dowry_amount_ranges = {\n",
    "    'Software Engineer': (10, 30),\n",
    "    'Doctor': (15, 35),\n",
    "    'Government Officer': (12, 25),\n",
    "    'Teacher': (5, 15),\n",
    "    'Business Owner': (8, 20),\n",
    "    'Farmer': (3, 12)\n",
    "}\n",
    "\n",
    "# Number of synthetic rows\n",
    "num_rows = 10000\n",
    "\n",
    "# Generating synthetic data\n",
    "synthetic_data = pd.DataFrame({\n",
    "    'Gender': np.random.choice(genders, num_rows),\n",
    "    'Education_Level': np.random.choice(education_levels, num_rows),\n",
    "    'Income_Level': np.random.choice(income_levels, num_rows),\n",
    "    'Urban_Rural': np.random.choice(urban_rural, num_rows),\n",
    "    'Profession': np.random.choice(professions, num_rows)\n",
    "})\n",
    "\n",
    "# Generating Dowry Amount based on Profession\n",
    "synthetic_data['Dowry_Amount_Lakhs'] = synthetic_data['Profession'].apply(\n",
    "    lambda x: round(np.random.uniform(*dowry_amount_ranges[x]), 2)\n",
    ")\n",
    "\n",
    "# Save to CSV\n",
    "synthetic_data.to_csv(\"synthetic_dowry_dataset_10000.csv\", index=False)\n",
    "\n",
    "print(\"Synthetic dataset with 10,000 rows saved as 'synthetic_dowry_dataset_10000.csv'\")\n"
   ]
  },
  {
   "cell_type": "code",
   "execution_count": 3,
   "id": "5196fd0b-1366-4d35-8329-694e8c54b666",
   "metadata": {},
   "outputs": [
    {
     "name": "stdout",
     "output_type": "stream",
     "text": [
      "Predicted Dowry Amount (Lakhs): ₹7.59\n"
     ]
    }
   ],
   "source": [
    "import pandas as pd\n",
    "from sklearn.model_selection import train_test_split\n",
    "from sklearn.ensemble import RandomForestRegressor\n",
    "from sklearn.preprocessing import OneHotEncoder\n",
    "from sklearn.compose import ColumnTransformer\n",
    "from sklearn.pipeline import Pipeline\n",
    "\n",
    "# 1. Load the dataset\n",
    "df = pd.read_csv(\"synthetic_dowry_dataset_10000.csv\")\n",
    "\n",
    "# 2. Define features and target\n",
    "X = df.drop(\"Dowry_Amount_Lakhs\", axis=1)\n",
    "y = df[\"Dowry_Amount_Lakhs\"]\n",
    "\n",
    "# 3. Categorical columns\n",
    "categorical_cols = ['Gender', 'Education_Level', 'Income_Level', 'Urban_Rural', 'Profession']\n",
    "\n",
    "# 4. Preprocessing: One-hot encode categorical columns\n",
    "preprocessor = ColumnTransformer(\n",
    "    transformers=[\n",
    "        ('cat', OneHotEncoder(handle_unknown='ignore'), categorical_cols)\n",
    "    ]\n",
    ")\n",
    "\n",
    "# 5. Create a pipeline with Random Forest Regressor\n",
    "model = Pipeline(steps=[\n",
    "    ('preprocessor', preprocessor),\n",
    "    ('regressor', RandomForestRegressor(n_estimators=100, random_state=42))\n",
    "])\n",
    "\n",
    "# 6. Train/test split\n",
    "X_train, X_test, y_train, y_test = train_test_split(X, y, test_size=0.2, random_state=42)\n",
    "\n",
    "# 7. Fit the model\n",
    "model.fit(X_train, y_train)\n",
    "\n",
    "# 8. Predict function\n",
    "def predict_dowry(gender, education, income, location, profession):\n",
    "    input_df = pd.DataFrame([{\n",
    "        'Gender': gender,\n",
    "        'Education_Level': education,\n",
    "        'Income_Level': income,\n",
    "        'Urban_Rural': location,\n",
    "        'Profession': profession\n",
    "    }])\n",
    "    prediction = model.predict(input_df)\n",
    "    return round(prediction[0], 2)\n",
    "\n",
    "# 9. Example prediction\n",
    "predicted_amount = predict_dowry('Male', 'Graduate', 'High', 'Urban', 'Farmer')\n",
    "print(f\"Predicted Dowry Amount (Lakhs): ₹{predicted_amount}\")\n"
   ]
  },
  {
   "cell_type": "code",
   "execution_count": null,
   "id": "6974cd6d-e303-4430-b32c-fbbc2cd433dc",
   "metadata": {},
   "outputs": [],
   "source": []
  }
 ],
 "metadata": {
  "kernelspec": {
   "display_name": "Python 3 (ipykernel)",
   "language": "python",
   "name": "python3"
  },
  "language_info": {
   "codemirror_mode": {
    "name": "ipython",
    "version": 3
   },
   "file_extension": ".py",
   "mimetype": "text/x-python",
   "name": "python",
   "nbconvert_exporter": "python",
   "pygments_lexer": "ipython3",
   "version": "3.12.3"
  }
 },
 "nbformat": 4,
 "nbformat_minor": 5
}
